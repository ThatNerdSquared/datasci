{
  "nbformat": 4,
  "nbformat_minor": 0,
  "metadata": {
    "colab": {
      "name": "Test Notebook.ipynb",
      "provenance": [],
      "include_colab_link": true
    },
    "kernelspec": {
      "name": "python3",
      "display_name": "Python 3"
    },
    "language_info": {
      "name": "python"
    }
  },
  "cells": [
    {
      "cell_type": "markdown",
      "metadata": {
        "id": "view-in-github",
        "colab_type": "text"
      },
      "source": [
        "<a href=\"https://colab.research.google.com/github/ThatNerdSquared/datasci/blob/main/datasci-workshop-week0.ipynb\" target=\"_parent\"><img src=\"https://colab.research.google.com/assets/colab-badge.svg\" alt=\"Open In Colab\"/></a>"
      ]
    },
    {
      "cell_type": "markdown",
      "metadata": {
        "id": "x_OHc_LfFvd1"
      },
      "source": [
        "# Notebook Set up for Week 0\n",
        "Please run the code below. If you're unable to do so, please join the meeting link early so you can get help with the set up."
      ]
    },
    {
      "cell_type": "code",
      "metadata": {
        "id": "U6qMtNTzFjVr"
      },
      "source": [
        "# print(\"Hello world\")"
      ],
      "execution_count": null,
      "outputs": []
    }
  ]
}